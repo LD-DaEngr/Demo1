{
  "metadata": {
    "language_info": {
      "codemirror_mode": {
        "name": "python",
        "version": 3
      },
      "file_extension": ".py",
      "mimetype": "text/x-python",
      "name": "python",
      "nbconvert_exporter": "python",
      "pygments_lexer": "ipython3",
      "version": "3.8"
    },
    "kernelspec": {
      "name": "python",
      "display_name": "Pyolite",
      "language": "python"
    }
  },
  "nbformat_minor": 4,
  "nbformat": 4,
  "cells": [
    {
      "cell_type": "markdown",
      "source": "# My Jupyter Notebook on IBM Watson Studio",
      "metadata": {
        "tags": []
      }
    },
    {
      "cell_type": "markdown",
      "source": "**LeDarious Jones**",
      "metadata": {}
    },
    {
      "cell_type": "markdown",
      "source": "_I'm intetested in Data Science because you can learn so much from data. Many services, products, and systems can improve user experiences with data._",
      "metadata": {}
    },
    {
      "cell_type": "markdown",
      "source": "### My Code will print the names of comedians I like",
      "metadata": {}
    },
    {
      "cell_type": "code",
      "source": "comedians = ['Dave C','Kevin H', 'Aziz A', 'Gary O']\nfor comedian in comedians:\n    print(comedian)\n    \n",
      "metadata": {
        "trusted": true
      },
      "execution_count": 1,
      "outputs": [
        {
          "name": "stdout",
          "text": "Dave C\nKevin H\nAziz A\nGary O\n",
          "output_type": "stream"
        }
      ]
    },
    {
      "cell_type": "markdown",
      "source": "<ul>\n    <li>Dave Chapelle</li>\n    <li>Kevin Hart</li>\n    <li>Aziz Ansari</li>\n    <li>Gary Owen</li>\n</ul>",
      "metadata": {}
    }
  ]
}